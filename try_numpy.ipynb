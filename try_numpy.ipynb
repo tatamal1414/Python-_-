{
 "cells": [
  {
   "cell_type": "markdown",
   "metadata": {},
   "source": []
  },
  {
   "cell_type": "code",
   "execution_count": null,
   "metadata": {},
   "outputs": [],
   "source": [
    "import numpy as np"
   ]
  },
  {
   "cell_type": "code",
   "execution_count": null,
   "metadata": {},
   "outputs": [],
   "source": [
    "a = [10,11,12,13,14,15]\n",
    "import numpy as np\n",
    "n_a = np.array(a)\n",
    "n_a\n",
    "n_a[0]\n",
    "n_a[1]\n",
    "last_index = len(n_a) - 1\n",
    "n_a[last_index]\n",
    "n_a[-1]\n",
    "n_a[-2]\n"
   ]
  },
  {
   "cell_type": "code",
   "execution_count": 21,
   "metadata": {},
   "outputs": [
    {
     "data": {
      "text/plain": [
       "array([11, 13, 15])"
      ]
     },
     "execution_count": 21,
     "metadata": {},
     "output_type": "execute_result"
    }
   ],
   "source": [
    "n_a[1:2:2]\n",
    "n_a[0:2]\n",
    "n_a[3:6]\n",
    "n_a[2:4]\n",
    "n_a[::2]\n",
    "n_a[1::2]"
   ]
  },
  {
   "cell_type": "code",
   "execution_count": 129,
   "metadata": {},
   "outputs": [
    {
     "data": {
      "text/plain": [
       "57.5"
      ]
     },
     "execution_count": 129,
     "metadata": {},
     "output_type": "execute_result"
    }
   ],
   "source": [
    "n_b = np.array([100,101,102,103,104,105])\n",
    "n_c = np.concatenate([n_a,n_b])\n",
    "n_d = np.average(n_c)\n",
    "n_d"
   ]
  },
  {
   "cell_type": "code",
   "execution_count": 132,
   "metadata": {},
   "outputs": [
    {
     "data": {
      "text/plain": [
       "[-0.6449420905918339,\n",
       " -0.6204949545228466,\n",
       " -0.6150649269335811,\n",
       " -0.5797000620324871,\n",
       " -0.29841343307949963,\n",
       " -0.2595491378403092,\n",
       " -0.050958571673816566,\n",
       " -0.03786178604649515,\n",
       " -0.029127893233676594,\n",
       " -0.008914438262002222]"
      ]
     },
     "execution_count": 132,
     "metadata": {},
     "output_type": "execute_result"
    }
   ],
   "source": [
    "n_random = np.random.random(10)\n",
    "#np.max(n_random)\n",
    "#np.min(n_random)\n",
    "#np.sort(n_random)\n",
    "#np.argsort(n_random)\n",
    "list(np.sort(-n_random))"
   ]
  }
 ],
 "metadata": {
  "interpreter": {
   "hash": "2c773120239b7e554af9715402c34433deac711a9b67734033ba031a50a10a0f"
  },
  "kernelspec": {
   "display_name": "Python 3.8.10 ('venv': venv)",
   "language": "python",
   "name": "python3"
  },
  "language_info": {
   "codemirror_mode": {
    "name": "ipython",
    "version": 3
   },
   "file_extension": ".py",
   "mimetype": "text/x-python",
   "name": "python",
   "nbconvert_exporter": "python",
   "pygments_lexer": "ipython3",
   "version": "3.8.5"
  },
  "orig_nbformat": 4
 },
 "nbformat": 4,
 "nbformat_minor": 2
}
